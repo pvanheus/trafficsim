{
 "cells": [
  {
   "cell_type": "code",
   "execution_count": 68,
   "metadata": {
    "collapsed": false
   },
   "outputs": [],
   "source": [
    "import random\n",
    "\n",
    "class Road(object):\n",
    "    \n",
    "    CAR = 1\n",
    "    SPACE = 0\n",
    "    \n",
    "    def __init__(self, size=40):\n",
    "        self.size = size\n",
    "        self.road = [' '] * size\n",
    "        \n",
    "    def put_car(self, pos):\n",
    "        if pos > (self.size - 1) or pos < 0:\n",
    "            raise ValueError('position {} is off road with size {}'.format(pos, self.size))\n",
    "        self.road[pos] = '*'\n",
    "    \n",
    "    def clear_car(self, pos):\n",
    "        if pos > (self.size - 1) or pos < 0:\n",
    "            raise ValueError('position {} is off road with size {}'.format(pos, self.size))\n",
    "        self.road[pos] = ' '\n",
    "        \n",
    "    def at(self, pos):\n",
    "        if pos > (self.size - 1) or pos < 0:\n",
    "            raise ValueError('position {} is off road with size {}'.format(pos, self.size))\n",
    "        if self.road[pos] == ' ':\n",
    "            return Road.SPACE\n",
    "        else:\n",
    "            return Road.CAR\n",
    "    \n",
    "    def move(self, pos, speed=1):\n",
    "        if pos > (self.size - 1) or pos < 0:\n",
    "            raise ValueError('position {} is off road with size {}'.format(pos, self.size))\n",
    "        next_pos = 0 if pos == (self.size - speed) else pos + speed\n",
    "        road_end = self.size - 1\n",
    "#         print(\"R:\", road_end)\n",
    "        for i in range(1, speed + 1):\n",
    "            if (pos + i) > road_end:\n",
    "                next_pos = (pos + i) - self.size\n",
    "#                 print(\"1:\", next_pos)\n",
    "            else:\n",
    "                next_pos = pos + i\n",
    "#                 print(\"2:\", next_pos)\n",
    "\n",
    "            if self.at(next_pos) == Road.CAR:\n",
    "                next_pos -= 1\n",
    "                break\n",
    "        self.clear_car(pos)\n",
    "        self.put_car(next_pos)\n",
    "        \n",
    "    def update_road_default(self):\n",
    "        for pos in range(self.size - 1, -1, -1):\n",
    "            if self.at(pos) == Road.CAR:\n",
    "                self.move(pos)\n",
    "        \n",
    "    def update_road_random(self, chance):\n",
    "        for pos in range(self.size - 1, -1, -1):\n",
    "            if random.random() < chance:\n",
    "                speed = 2\n",
    "            else:\n",
    "                speed = 1\n",
    "            if self.at(pos) == Road.CAR:\n",
    "                self.move(pos, speed)\n",
    "    \n",
    "    def __repr__(self):\n",
    "        return ''.join(self.road) + '|'"
   ]
  },
  {
   "cell_type": "code",
   "execution_count": 69,
   "metadata": {
    "collapsed": false
   },
   "outputs": [
    {
     "name": "stdout",
     "output_type": "stream",
     "text": [
      "* * * * * * * * * * * * * * * * * * * * * * * *  |\n",
      " * * * * * * * * * * * * * * * * * * * * * * * * |\n",
      "  * * * * * * * * * * * * * * * * * * * * * * * *|\n",
      " * * * * * * * * * * * * * * * * * * * * * * * * |\n",
      "  * * * * * * * * * * * * * * * * * * * * * * * *|\n",
      " * * * * * * * * * * * * * * * * * * * * * * * * |\n",
      "  * * * * * * * * * * * * * * * * * * * * * * * *|\n",
      " * * * * * * * * * * * * * * * * * * * * * * * * |\n",
      "  * * * * * * * * * * * * * * * * * * * * * * * *|\n",
      " * * * * * * * * * * * * * * * * * * * * * * * * |\n"
     ]
    }
   ],
   "source": [
    "size = 49\n",
    "steps = 10\n",
    "r = Road(size)\n",
    "for i in range(0, size - 1, 2):\n",
    "    r.put_car(i)\n",
    "for i in range(steps):\n",
    "    print(r)\n",
    "    r.update_road_default()\n"
   ]
  },
  {
   "cell_type": "code",
   "execution_count": 70,
   "metadata": {
    "collapsed": false
   },
   "outputs": [
    {
     "name": "stdout",
     "output_type": "stream",
     "text": [
      "* * * * * * * * * * * * * * * * * * * * * * * *  |\n",
      "  ** * * * * * *  ** *  ** *  ** * * * * * * * * |\n",
      "   ** * * * * * *  ** *  ** *  * **  ** * * * * *|\n",
      "  * ** * * * *  **  ** *  ** *  * **  ** * * * * |\n",
      "   * ** * * * *  **  ** *  ** *  * **  **  * ** *|\n",
      " *  * ** * * * *  **  ** *  ** *  * **  * * * ** |\n",
      "  *  * ** * * * *  **  ** *  ** *  * **  * *  ***|\n",
      " * *  * ** * * *  * **  ** *  ** *  * **  * *  **|\n",
      " ** *  * ** * * *  * **  ** *  ** *  * **   **  *|\n",
      " *** *  * ** * * *  * **  **  * ** *  * **    ** |\n"
     ]
    }
   ],
   "source": [
    "size = 49\n",
    "steps = 10\n",
    "r = Road(size)\n",
    "for i in range(0, size - 1, 2):\n",
    "    r.put_car(i)\n",
    "for i in range(steps):\n",
    "    print(r)\n",
    "    r.update_road_random(0.10)\n"
   ]
  },
  {
   "cell_type": "code",
   "execution_count": null,
   "metadata": {
    "collapsed": true
   },
   "outputs": [],
   "source": []
  }
 ],
 "metadata": {
  "kernelspec": {
   "display_name": "Python [Root]",
   "language": "python",
   "name": "Python [Root]"
  },
  "language_info": {
   "codemirror_mode": {
    "name": "ipython",
    "version": 3
   },
   "file_extension": ".py",
   "mimetype": "text/x-python",
   "name": "python",
   "nbconvert_exporter": "python",
   "pygments_lexer": "ipython3",
   "version": "3.5.2"
  }
 },
 "nbformat": 4,
 "nbformat_minor": 2
}
